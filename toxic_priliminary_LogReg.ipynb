{
 "cells": [
  {
   "cell_type": "code",
   "execution_count": 1,
   "metadata": {
    "collapsed": true
   },
   "outputs": [],
   "source": [
    "# Import data using get_data.py module \n",
    "from get_data import load_data\n",
    "import numpy as np"
   ]
  },
  {
   "cell_type": "code",
   "execution_count": 2,
   "metadata": {},
   "outputs": [],
   "source": [
    "# Load the data\n",
    "X_train, X_val, X_test, y_train, y_val, y_test = load_data()"
   ]
  },
  {
   "cell_type": "code",
   "execution_count": 3,
   "metadata": {
    "collapsed": true
   },
   "outputs": [],
   "source": [
    "# Conerting text to TFIDF\n",
    "from sklearn.feature_extraction.text import TfidfVectorizer\n",
    "vect = TfidfVectorizer(decode_error='ignore',stop_words='english')\n",
    "train_tfidf = vect.fit_transform(X_train)\n",
    "val_tfidf = vect.transform(X_val)\n",
    "test_tfidf = vect.transform(X_test)"
   ]
  },
  {
   "cell_type": "code",
   "execution_count": 4,
   "metadata": {},
   "outputs": [],
   "source": [
    "# Creating empty prediction array\n",
    "col = ['toxic', 'severe_toxic', 'obscene', 'threat','insult', 'identity_hate']\n",
    "pred_train = np.zeros((X_train.shape[0],len(col)))\n",
    "pred_test = np.zeros((X_test.shape[0],len(col)))\n",
    "pred_val = np.zeros((X_val.shape[0],len(col)))"
   ]
  },
  {
   "cell_type": "code",
   "execution_count": 5,
   "metadata": {},
   "outputs": [],
   "source": [
    "# Load Logistic Regression model\n",
    "from sklearn.linear_model import LogisticRegression\n",
    "LogR = LogisticRegression()"
   ]
  },
  {
   "cell_type": "code",
   "execution_count": 6,
   "metadata": {},
   "outputs": [
    {
     "name": "stdout",
     "output_type": "stream",
     "text": [
      "toxic predicted!\n",
      "severe_toxic predicted!\n",
      "obscene predicted!\n",
      "threat predicted!\n",
      "insult predicted!\n",
      "identity_hate predicted!\n"
     ]
    }
   ],
   "source": [
    "# Predict on train, val and test datasets\n",
    "for i,x in enumerate(col):\n",
    "    LogR.fit(train_tfidf, y_train[x])\n",
    "    pred_train[:,i] = LogR.predict_proba(train_tfidf)[:,1]\n",
    "    pred_val[:,i] = LogR.predict_proba(val_tfidf)[:,1]\n",
    "    pred_test[:,i] = LogR.predict_proba(test_tfidf)[:,1]\n",
    "    print(x,\"predicted!\")"
   ]
  },
  {
   "cell_type": "code",
   "execution_count": 7,
   "metadata": {
    "scrolled": true
   },
   "outputs": [
    {
     "name": "stdout",
     "output_type": "stream",
     "text": [
      "toxic Train AUC: 0.985669145484\n",
      "toxic Val AUC: 0.969281957227\n",
      "toxic Test AUC: 0.967624722551\n",
      "severe_toxic Train AUC: 0.992689695181\n",
      "severe_toxic Val AUC: 0.985720379516\n",
      "severe_toxic Test AUC: 0.981633391905\n",
      "obscene Train AUC: 0.993966841859\n",
      "obscene Val AUC: 0.982284100316\n",
      "obscene Test AUC: 0.987497090156\n",
      "threat Train AUC: 0.9956640451\n",
      "threat Val AUC: 0.971606244941\n",
      "threat Test AUC: 0.981785843241\n",
      "insult Train AUC: 0.988622465591\n",
      "insult Val AUC: 0.973958306984\n",
      "insult Test AUC: 0.975756320238\n",
      "identity_hate Train AUC: 0.991503895837\n",
      "identity_hate Val AUC: 0.975949369693\n",
      "identity_hate Test AUC: 0.965025580003\n"
     ]
    }
   ],
   "source": [
    "from sklearn import metrics\n",
    "for i,x in enumerate(col):\n",
    "    print(x,\"Train AUC:\",metrics.roc_auc_score(y_train[x], pred_train[:,i]))\n",
    "    print(x,\"Val AUC:\",metrics.roc_auc_score(y_val[x], pred_val[:,i]))\n",
    "    print(x,\"Test AUC:\",metrics.roc_auc_score(y_test[x], pred_test[:,i]))"
   ]
  },
  {
   "cell_type": "code",
   "execution_count": 8,
   "metadata": {},
   "outputs": [
    {
     "name": "stdout",
     "output_type": "stream",
     "text": [
      "identity_hate  Train AUC: 0.965025580003\n"
     ]
    },
    {
     "name": "stderr",
     "output_type": "stream",
     "text": [
      "C:\\Users\\poiga\\Anaconda3\\lib\\site-packages\\sklearn\\metrics\\ranking.py:571: UndefinedMetricWarning: No positive samples in y_true, true positive value should be meaningless\n",
      "  UndefinedMetricWarning)\n"
     ]
    }
   ],
   "source": [
    "fpr, tpr, thresholds = metrics.roc_curve(y_train[x], pred_train[:,i], pos_label=2)\n",
    "print(col[i],\" Train AUC:\",metrics.roc_auc_score(y_test[x], pred_test[:,i]))"
   ]
  }
 ],
 "metadata": {
  "kernelspec": {
   "display_name": "Python 3",
   "language": "python",
   "name": "python3"
  },
  "language_info": {
   "codemirror_mode": {
    "name": "ipython",
    "version": 3
   },
   "file_extension": ".py",
   "mimetype": "text/x-python",
   "name": "python",
   "nbconvert_exporter": "python",
   "pygments_lexer": "ipython3",
   "version": "3.6.3"
  }
 },
 "nbformat": 4,
 "nbformat_minor": 1
}
