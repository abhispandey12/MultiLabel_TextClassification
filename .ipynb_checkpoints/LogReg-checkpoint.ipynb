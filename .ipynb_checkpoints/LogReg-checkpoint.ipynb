{
 "cells": [
  {
   "cell_type": "markdown",
   "metadata": {},
   "source": [
    "<h3>Assuming that data is lineary seperable We will try to train model using Logistic regression</h3>"
   ]
  },
  {
   "cell_type": "code",
   "execution_count": 1,
   "metadata": {
    "collapsed": true
   },
   "outputs": [],
   "source": [
    "# Import data using get_data.py module \n",
    "from get_data import load_data\n",
    "import numpy as np\n",
    "import pandas as pd\n",
    "from matplotlib import pyplot "
   ]
  },
  {
   "cell_type": "code",
   "execution_count": 2,
   "metadata": {
    "collapsed": true
   },
   "outputs": [],
   "source": [
    "# Load the data\n",
    "X_train, X_val, X_test, y_train, y_val, y_test = load_data()"
   ]
  },
  {
   "cell_type": "code",
   "execution_count": 3,
   "metadata": {
    "collapsed": true
   },
   "outputs": [],
   "source": [
    "# Conerting text to TFIDF\n",
    "from sklearn.feature_extraction.text import TfidfVectorizer\n",
    "vect = TfidfVectorizer(decode_error='ignore',stop_words='english')\n",
    "train_tfidf = vect.fit_transform(X_train)\n",
    "val_tfidf = vect.transform(X_val)\n",
    "test_tfidf = vect.transform(X_test)"
   ]
  },
  {
   "cell_type": "code",
   "execution_count": 4,
   "metadata": {
    "collapsed": true
   },
   "outputs": [],
   "source": [
    "# Creating empty prediction array\n",
    "# Training a different model for each toxicity level\n",
    "col = ['toxic', 'severe_toxic', 'obscene', 'threat','insult', 'identity_hate']\n",
    "pred_train = np.zeros((X_train.shape[0],len(col)))\n",
    "pred_test = np.zeros((X_test.shape[0],len(col)))\n",
    "pred_val = np.zeros((X_val.shape[0],len(col)))"
   ]
  },
  {
   "cell_type": "code",
   "execution_count": 11,
   "metadata": {
    "collapsed": true
   },
   "outputs": [],
   "source": [
    "# Load Logistic Regression model\n",
    "from sklearn.linear_model import LogisticRegression\n",
    "LogR = LogisticRegression()"
   ]
  },
  {
   "cell_type": "code",
   "execution_count": 12,
   "metadata": {
    "scrolled": true
   },
   "outputs": [
    {
     "name": "stdout",
     "output_type": "stream",
     "text": [
      "toxic predicted!\n",
      "severe_toxic predicted!\n",
      "obscene predicted!\n",
      "threat predicted!\n",
      "insult predicted!\n",
      "identity_hate predicted!\n"
     ]
    }
   ],
   "source": [
    "# Predict on train, val \n",
    "# Assuming that Data is linearly seperable\n",
    "for i,x in enumerate(col):\n",
    "    LogR.fit(train_tfidf, y_train[x])\n",
    "    pred_train[:,i] = LogR.predict_proba(train_tfidf)[:,1]\n",
    "    pred_val[:,i] = LogR.predict_proba(val_tfidf)[:,1]\n",
    "    print(x,\"predicted!\")"
   ]
  },
  {
   "cell_type": "markdown",
   "metadata": {},
   "source": [
    "We are comparing the AUC score for predictions on train data and validation data"
   ]
  },
  {
   "cell_type": "code",
   "execution_count": 14,
   "metadata": {
    "scrolled": true
   },
   "outputs": [
    {
     "name": "stdout",
     "output_type": "stream",
     "text": [
      "toxic <Train,Val> AUC: 0.985669142993 0.969281957227\n",
      "severe_toxic <Train,Val> AUC: 0.992689695181 0.985720379516\n",
      "obscene <Train,Val> AUC: 0.993966841859 0.982284100316\n",
      "threat <Train,Val> AUC: 0.9956640451 0.971606244941\n",
      "insult <Train,Val> AUC: 0.988622467896 0.973958296445\n",
      "identity_hate <Train,Val> AUC: 0.991503895837 0.975949369693\n"
     ]
    }
   ],
   "source": [
    "from sklearn import metrics\n",
    "for i,x in enumerate(col):\n",
    "    print(x,\"<Train,Val> AUC:\",metrics.roc_auc_score(y_train[x], pred_train[:,i]),metrics.roc_auc_score(y_val[x], pred_val[:,i]))"
   ]
  },
  {
   "cell_type": "markdown",
   "metadata": {},
   "source": [
    "Avobe results show that AUC scores of train and validation data are almost comparable and there is no case of overfitting.\n",
    "However in order to get best results we can change the regularasation and get best model that does not overfit"
   ]
  },
  {
   "cell_type": "markdown",
   "metadata": {},
   "source": [
    "Tuning the Model By Changing the regularisation(C) value"
   ]
  },
  {
   "cell_type": "code",
   "execution_count": 26,
   "metadata": {
    "scrolled": true
   },
   "outputs": [],
   "source": [
    "c=[0.01,0.1,1,10,100]\n",
    "resultDict ={}\n",
    "resultValDict ={}\n",
    "for i in c:\n",
    "    LogR = LogisticRegression(C=i)\n",
    "    temp=[]\n",
    "    temp2=[]\n",
    "    for j,x in enumerate(col):\n",
    "        LogR.fit(train_tfidf, y_train[x])\n",
    "        pred_train[:,j] = LogR.predict_proba(train_tfidf)[:,1]\n",
    "        pred_val[:,j] = LogR.predict_proba(val_tfidf)[:,1]\n",
    "        temp.append(metrics.roc_auc_score(y_train[x], pred_train[:,1]))\n",
    "        temp2.append(metrics.roc_auc_score(y_val[x], pred_val[:,1]))\n",
    "    resultDict[i]=temp\n",
    "    resultValDict[i]=temp2\n",
    "\n",
    "result = pd.DataFrame(resultDict)\n",
    "valResult =pd.DataFrame(resultValDict)"
   ]
  },
  {
   "cell_type": "code",
   "execution_count": 27,
   "metadata": {
    "scrolled": true
   },
   "outputs": [
    {
     "data": {
      "text/plain": [
       "(     0.01      0.10      1.00      10.00     100.00\n",
       " 0  0.801645  0.867584  0.898566  0.903493  0.880183\n",
       " 1  0.982275  0.986849  0.992690  0.998630  0.999576\n",
       " 2  0.943818  0.960118  0.955245  0.933972  0.899600\n",
       " 3  0.925848  0.941271  0.951133  0.943425  0.923306\n",
       " 4  0.919243  0.940872  0.944313  0.927895  0.894769\n",
       " 5  0.925177  0.941028  0.949261  0.938981  0.912521,\n",
       "      0.01      0.10      1.00      10.00     100.00\n",
       " 0  0.800974  0.874828  0.906041  0.909949  0.885901\n",
       " 1  0.983627  0.984865  0.985720  0.980200  0.964196\n",
       " 2  0.943817  0.960962  0.954879  0.932323  0.894569\n",
       " 3  0.917733  0.937900  0.941677  0.924766  0.886858\n",
       " 4  0.920785  0.943354  0.945361  0.926712  0.891177\n",
       " 5  0.928420  0.943376  0.949501  0.936101  0.907708,\n",
       "          0.01      0.10      1.00      10.00     100.00\n",
       " 0  6.709623e-04 -0.007244 -0.007475 -0.006456 -0.005718\n",
       " 1 -1.351729e-03  0.001984  0.006969  0.018429  0.035381\n",
       " 2  4.747003e-07 -0.000845  0.000366  0.001649  0.005030\n",
       " 3  8.114294e-03  0.003371  0.009455  0.018659  0.036448\n",
       " 4 -1.541671e-03 -0.002482 -0.001048  0.001183  0.003592\n",
       " 5 -3.242322e-03 -0.002348 -0.000240  0.002880  0.004813)"
      ]
     },
     "execution_count": 27,
     "metadata": {},
     "output_type": "execute_result"
    }
   ],
   "source": [
    "result , valResult , result-valResult"
   ]
  },
  {
   "cell_type": "markdown",
   "metadata": {},
   "source": [
    "We can see that for lower values of C i.e for high regularisation, we are getting almost same AUC scores for both the data.But there is also a trade off as we are getting better solution to overfitting with the expense of overall accuracy of classification."
   ]
  },
  {
   "cell_type": "code",
   "execution_count": 28,
   "metadata": {},
   "outputs": [
    {
     "data": {
      "image/png": "[encoded data removed]",
      "text/plain": [
       "<matplotlib.figure.Figure at 0xf37c438>"
      ]
     },
     "metadata": {},
     "output_type": "display_data"
    }
   ],
   "source": [
    "pyplot.subplot()\n",
    "for i in result.index:\n",
    "    pyplot.plot(c,(result - valResult).loc[i])\n",
    "    \n",
    "pyplot.xscale(\"log\")\n",
    "pyplot.xlabel(\"Value of C\")\n",
    "pyplot.ylabel(\"ROC_AUC Score Difference\")\n",
    "pyplot.legend(col)\n",
    "pyplot.show()"
   ]
  },
  {
   "cell_type": "markdown",
   "metadata": {},
   "source": [
    "<p8>We can see that the AUC score of predictions on training data is greater than that of Validation data. This is expected\n",
    "as validations data is new to Trained model. Although it might indicate towards overfitting the difference is not that\n",
    "much and thus we can say that model is not overfitted </p8>"
   ]
  },
  {
   "cell_type": "markdown",
   "metadata": {},
   "source": [
    "<h4> Finally running the model on testing data using tunned parameters</h4>"
   ]
  },
  {
   "cell_type": "code",
   "execution_count": 33,
   "metadata": {},
   "outputs": [
    {
     "name": "stdout",
     "output_type": "stream",
     "text": [
      "toxic <Test> AUC: 0.961251532981\n",
      "severe_toxic <Test> AUC: 0.986932468014\n",
      "obscene <Test> AUC: 0.985689700797\n",
      "threat <Test> AUC: 0.992805943004\n",
      "insult <Test> AUC: 0.97516894943\n",
      "identity_hate <Test> AUC: 0.976127176656\n"
     ]
    }
   ],
   "source": [
    "LogR = LogisticRegression(C=0.1)\n",
    "for i,x in enumerate(col):\n",
    "    LogR.fit(test_tfidf, y_test[x])\n",
    "    pred_test[:,i] = LogR.predict_proba(test_tfidf)[:,1]\n",
    "\n",
    "for i,x in enumerate(col):\n",
    "    print(x,\"<Test> AUC:\",metrics.roc_auc_score(y_test[x], pred_test[:,i]))\n"
   ]
  }
 ],
 "metadata": {
  "kernelspec": {
   "display_name": "Python 3",
   "language": "python",
   "name": "python3"
  },
  "language_info": {
   "codemirror_mode": {
    "name": "ipython",
    "version": 3
   },
   "file_extension": ".py",
   "mimetype": "text/x-python",
   "name": "python",
   "nbconvert_exporter": "python",
   "pygments_lexer": "ipython3",
   "version": "3.6.2"
  }
 },
 "nbformat": 4,
 "nbformat_minor": 1
}
